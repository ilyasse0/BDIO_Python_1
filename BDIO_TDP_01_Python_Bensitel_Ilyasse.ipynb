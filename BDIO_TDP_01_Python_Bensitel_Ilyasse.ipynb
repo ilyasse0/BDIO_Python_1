{
 "cells": [
  {
   "cell_type": "markdown",
   "id": "86a04021",
   "metadata": {},
   "source": [
    "<font size=2><b> \n",
    "Université Hassan 2<br>\n",
    "Ecole Nationale Supérieure d'Arts et Métiers<br>\n",
    "Filière : Master BDIO\n",
    "</b></font>"
   ]
  },
  {
   "cell_type": "markdown",
   "id": "3c5db3dc",
   "metadata": {},
   "source": [
    "<font size=6 color=red> <b> <center> Introduction au Langage Python \n",
    "    <br>\n",
    "    </center> </b> </font>"
   ]
  },
  {
   "cell_type": "markdown",
   "id": "06c2434b",
   "metadata": {},
   "source": [
    "<font size=6> <b> <center> TDP 01 </center> </b> </font>"
   ]
  },
  {
   "cell_type": "markdown",
   "id": "a71c82e7",
   "metadata": {},
   "source": [
    "<font size=3 color =blue>Répondez aux questions et envoyez à votre classe room le fichier<br> ayant comme nom le format suivant <br></font>\n",
    "    <ul>\n",
    "    <li> <font size=2 color=maroon>BDIO_TDP_01_Python_NOM_PRENOM.ipynb</font>\n",
    "    </ul>"
   ]
  },
  {
   "cell_type": "code",
   "execution_count": null,
   "id": "bc1e1bc7-3bbf-479d-a599-2d6ef8e2c734",
   "metadata": {},
   "outputs": [],
   "source": []
  },
  {
   "cell_type": "markdown",
   "id": "d9cbaf1b",
   "metadata": {},
   "source": [
    "## Partie 1 : Structures conditionnelles"
   ]
  },
  {
   "cell_type": "markdown",
   "id": "5c742699",
   "metadata": {},
   "source": [
    "- Saisir un flottant et affichez sa racine si c'est possible, sinon affichez un message d’erreur."
   ]
  },
  {
   "cell_type": "code",
   "execution_count": 113,
   "id": "eeec365b",
   "metadata": {},
   "outputs": [
    {
     "name": "stdout",
     "output_type": "stream",
     "text": [
      " 2\n"
     ]
    },
    {
     "name": "stdout",
     "output_type": "stream",
     "text": [
      "la racine est : 1.4142135623730951\n"
     ]
    }
   ],
   "source": [
    "import math\n",
    "tmp = float(input())\n",
    "if tmp <0 :\n",
    "    print(\"ERROR IMPOSSIBLE !\")\n",
    "elif tmp==0 :\n",
    "    print(\"ERROR IMPOSSIBLE !\")\n",
    "else :\n",
    "    print(\"la racine est :\" ,math.sqrt(tmp) )\n"
   ]
  },
  {
   "cell_type": "markdown",
   "id": "8a4ddcd6",
   "metadata": {},
   "source": [
    "- Ecrire un code python qui lit un entier saisit au clavier et Affiche si le nombre est pair ou Impaire\n"
   ]
  },
  {
   "cell_type": "code",
   "execution_count": 13,
   "id": "cb57588c",
   "metadata": {},
   "outputs": [
    {
     "name": "stdout",
     "output_type": "stream",
     "text": [
      "Saisie un entier \n"
     ]
    },
    {
     "name": "stdout",
     "output_type": "stream",
     "text": [
      " 7\n"
     ]
    },
    {
     "name": "stdout",
     "output_type": "stream",
     "text": [
      "7 :est nombre Impaire!\n"
     ]
    }
   ],
   "source": [
    "print(\"Saisie un entier \")\n",
    "tmp = int(input())\n",
    "if tmp %2 ==0 :\n",
    "    print(f\"{tmp} :est nombre Paire!\")\n",
    "else :\n",
    "    print(f\"{tmp} :est nombre Impaire!\")\n"
   ]
  },
  {
   "cell_type": "markdown",
   "id": "a957efd2",
   "metadata": {},
   "source": [
    "- Ecrire un code qui saisi trois entier a,b et c et qui affiche quel est le max des trois\n",
    "<br>__! &nbsp; Ne pas faire recours au fonctions min et max vues au cours__"
   ]
  },
  {
   "cell_type": "code",
   "execution_count": 21,
   "id": "e99cb540",
   "metadata": {},
   "outputs": [
    {
     "name": "stdout",
     "output_type": "stream",
     "text": [
      "Saisie votre valeur entier a 2\n",
      "Saisie votre valeur entier b 4\n",
      "Saisie votre valeur entier c 6\n"
     ]
    },
    {
     "name": "stdout",
     "output_type": "stream",
     "text": [
      "6 : est le plus grand!\n"
     ]
    }
   ],
   "source": [
    "a = int(input(\"Saisie votre valeur entier a\"))\n",
    "\n",
    "b = int(input(\"Saisie votre valeur entier b\"))\n",
    "\n",
    "c = int(input(\"Saisie votre valeur entier c\"))\n",
    "#print(\"test done\")\n",
    "if     a > b and a > c :\n",
    "         print(f\"{a} : est le plus grand!\")\n",
    "elif   b > a and b > c:\n",
    "         print(f\"{b} : est le plus grand!\")\n",
    "else :\n",
    "         print(f\"{c} : est le plus grand!\")"
   ]
  },
  {
   "cell_type": "markdown",
   "id": "b1987d2f",
   "metadata": {},
   "source": [
    "- Ecrire un code qui saisit 3 chaines de caractères et qui les affiche séparées par le caractère étoile '*' (utiliser l'option end)"
   ]
  },
  {
   "cell_type": "code",
   "execution_count": 31,
   "id": "415913ba",
   "metadata": {},
   "outputs": [
    {
     "name": "stdout",
     "output_type": "stream",
     "text": [
      "Saisie un chaine de caractères str1  ENSAM\n",
      "Saisie un chaine de caractères str2  CASA\n",
      "Saisie un chaine de caractères str3  BDIO\n"
     ]
    },
    {
     "name": "stdout",
     "output_type": "stream",
     "text": [
      "ENSAM*CASA*BDIO\n"
     ]
    }
   ],
   "source": [
    "str1=str(input(\"Saisie un chaine de caractères str1 \"))\n",
    "str2=str(input(\"Saisie un chaine de caractères str2 \"))\n",
    "str3=str(input(\"Saisie un chaine de caractères str3 \"))\n",
    "\n",
    "print(str1 ,end=\"*\")\n",
    "print(str2 ,end=\"*\")\n",
    "print(str3) \n",
    "\n",
    "\n",
    "\n"
   ]
  },
  {
   "cell_type": "markdown",
   "id": "6b7f8240",
   "metadata": {},
   "source": [
    "## Partie 2 : Listes | slicing | indices négatifs"
   ]
  },
  {
   "cell_type": "markdown",
   "id": "ea532fab",
   "metadata": {},
   "source": [
    "- Générer et afficher une liste L contenant, dans l'ordre, des entiers de 0 à 60\n",
    "    - __indication__ : utiliser la fonction range()\n"
   ]
  },
  {
   "cell_type": "code",
   "execution_count": 63,
   "id": "c4f9492b",
   "metadata": {},
   "outputs": [
    {
     "name": "stdout",
     "output_type": "stream",
     "text": [
      "[0, 1, 2, 3, 4, 5, 6, 7, 8, 9, 10, 11, 12, 13, 14, 15, 16, 17, 18, 19, 20, 21, 22, 23, 24, 25, 26, 27, 28, 29, 30, 31, 32, 33, 34, 35, 36, 37, 38, 39, 40, 41, 42, 43, 44, 45, 46, 47, 48, 49, 50, 51, 52, 53, 54, 55, 56, 57, 58, 59, 60]\n"
     ]
    }
   ],
   "source": [
    "List = list(range(0,61))\n",
    "print(List)"
   ]
  },
  {
   "cell_type": "markdown",
   "id": "6e032363",
   "metadata": {},
   "source": [
    "- Afficher dans un ordre croissant tous les éléments pairs  (sans utilisation de boucle)"
   ]
  },
  {
   "cell_type": "code",
   "execution_count": 81,
   "id": "a4803229",
   "metadata": {},
   "outputs": [
    {
     "name": "stdout",
     "output_type": "stream",
     "text": [
      "[0, 2, 4, 6, 8, 10, 12, 14, 16, 18, 20, 22, 24, 26, 28, 30, 32, 34, 36, 38, 40, 42, 44, 46, 48, 50, 52, 54, 56, 58, 60]\n"
     ]
    }
   ],
   "source": [
    "print(list(List[::2]))"
   ]
  },
  {
   "cell_type": "markdown",
   "id": "b7b796bb",
   "metadata": {},
   "source": [
    "- Afficher dans un ordre décroissant tous les éléments impairs  (sans utilisation de boucle)"
   ]
  },
  {
   "cell_type": "code",
   "execution_count": 115,
   "id": "28d3f0d1",
   "metadata": {},
   "outputs": [
    {
     "name": "stdout",
     "output_type": "stream",
     "text": [
      "[59, 57, 55, 53, 51, 49, 47, 45, 43, 41, 39, 37, 35, 33, 31, 29, 27, 25, 23, 21, 19, 17, 15, 13, 11, 9, 7, 5, 3, 1]\n"
     ]
    }
   ],
   "source": [
    "print(list(List[-2::-2]))"
   ]
  },
  {
   "cell_type": "markdown",
   "id": "9e48323e",
   "metadata": {},
   "source": [
    "- Mettre dans la liste L3 tous les éléments de L multiples de 3\n",
    "- Mettre dans la liste L4 tous les éléments de L multiples de 4"
   ]
  },
  {
   "cell_type": "code",
   "execution_count": 190,
   "id": "07ce1ab7",
   "metadata": {},
   "outputs": [
    {
     "name": "stdout",
     "output_type": "stream",
     "text": [
      "L3 -->  [0, 3, 6, 9, 12, 15, 18, 21, 24, 27, 30, 33, 36, 39, 42, 45, 48, 51, 54, 57, 60]\n",
      "****\n",
      "L4 -->  [0, 4, 8, 12, 16, 20, 24, 28, 32, 36, 40, 44, 48, 52, 56, 60]\n"
     ]
    }
   ],
   "source": [
    "l3 = []\n",
    "l4 = []\n",
    "for tmp_3 in List:\n",
    "    if tmp_3 % 3 == 0:\n",
    "        l3.append(tmp_3)\n",
    "\n",
    "for tmp_4 in List :\n",
    "    if tmp_4 % 4 ==0:\n",
    "        l4.append(tmp_4)\n",
    "print(\"L3 --> \", l3)\n",
    "print(\"****\")\n",
    "print(\"L4 --> \", l4)"
   ]
  },
  {
   "cell_type": "markdown",
   "id": "5ae54bc3",
   "metadata": {},
   "source": [
    "- Afficher tous les éléments de L3 exceptés les 5 derniers éléments\n",
    "- Afficher tous les éléments de L4 exceptés les 7 premiers éléments"
   ]
  },
  {
   "cell_type": "code",
   "execution_count": 206,
   "id": "4c9365ca",
   "metadata": {},
   "outputs": [
    {
     "name": "stdout",
     "output_type": "stream",
     "text": [
      "0 3 6 9 12 15 18 21 24 27 30 33 36 39 42 45 28 32 36 40 44 48 52 56 60 "
     ]
    }
   ],
   "source": [
    "for i in range(len(l3) -5):\n",
    "    print(l3[i] , end=\" \")\n",
    "#print(\"test here\")\n",
    "for j in range (7 , len(l4)):\n",
    "        print(l4[j] , end=\" \")"
   ]
  },
  {
   "cell_type": "markdown",
   "id": "18844dac",
   "metadata": {},
   "source": [
    "## Partie 3 : Boucles"
   ]
  },
  {
   "cell_type": "markdown",
   "id": "011d4693",
   "metadata": {},
   "source": [
    "### Inverser l'ordre d'une liste d'entier"
   ]
  },
  {
   "cell_type": "markdown",
   "id": "61eedaea",
   "metadata": {},
   "source": [
    "##### Ci-dessous un programme qui lit un entier n au clavier, puis crée L, une liste de n entiers générés aléatoirement entre 1 et 100 "
   ]
  },
  {
   "cell_type": "code",
   "execution_count": 250,
   "id": "f5313378",
   "metadata": {},
   "outputs": [
    {
     "name": "stdout",
     "output_type": "stream",
     "text": [
      "Saisir longueur de L :  3\n"
     ]
    },
    {
     "name": "stdout",
     "output_type": "stream",
     "text": [
      "L : [9, 46, 52]\n"
     ]
    }
   ],
   "source": [
    "import random\n",
    "n = int(input(\"Saisir longueur de L : \"))\n",
    "L = [ random.randint(1, 100) for _ in range(n) ]\n",
    "print(\"L :\", L)"
   ]
  },
  {
   "cell_type": "markdown",
   "id": "58690cbd",
   "metadata": {},
   "source": [
    "### En utilisant la boucle while, inverser l'ordre de la liste L :\n",
    "les premiers éléments deviennent derniers et vice versa"
   ]
  },
  {
   "cell_type": "code",
   "execution_count": 254,
   "id": "b6161680",
   "metadata": {},
   "outputs": [
    {
     "name": "stdout",
     "output_type": "stream",
     "text": [
      "[52, 46, 9]\n"
     ]
    }
   ],
   "source": [
    "i=0\n",
    "j=len(L)-1\n",
    "while  i < j:\n",
    "    tmp = L[i]\n",
    "    L[i]=L[j]\n",
    "    L[j] = tmp\n",
    "    j-=1\n",
    "    i+=1\n",
    "print(L)"
   ]
  },
  {
   "cell_type": "markdown",
   "id": "a19213b3",
   "metadata": {},
   "source": [
    "## Liste Triée ??? <font size=2>(version corrigée) </font>\n",
    "- écrire un code qui vérifie si une liste d'entier est triée ou pas "
   ]
  },
  {
   "cell_type": "code",
   "execution_count": 262,
   "id": "cbbd7d32",
   "metadata": {},
   "outputs": [
    {
     "name": "stdout",
     "output_type": "stream",
     "text": [
      "Liste nest pas triee\n"
     ]
    }
   ],
   "source": [
    "i=0\n",
    "tmp=0\n",
    "j=len(L)-1\n",
    "for i in range (j):\n",
    "    #print(\"test\")\n",
    "    if L[i] > L[i+1]:\n",
    "        tmp+=1\n",
    "\n",
    "if(tmp ==0 ):\n",
    "    print(\"Liste est triee\")\n",
    "else :\n",
    "        print(\"Liste nest pas triee\")\n",
    "\n",
    "    \n"
   ]
  },
  {
   "cell_type": "markdown",
   "id": "a75642e3",
   "metadata": {},
   "source": [
    "#### Nombre Premier\n",
    "- Ecrire un programme qui lit un entier positif et affiche si cet entier est premier ou pas\n",
    "- On rappelle qu'un nombre premier est un nombre qui n'est divisible que par 1 et lui même\n",
    "- Vous devez arrêter les itérations une fois que vous trouviez un diviseur propre\n",
    "    - __indication__ : utiliser break"
   ]
  },
  {
   "cell_type": "code",
   "execution_count": 301,
   "id": "774abbc0",
   "metadata": {},
   "outputs": [
    {
     "name": "stdout",
     "output_type": "stream",
     "text": [
      "Saisie un entier nbr positive 10\n"
     ]
    },
    {
     "name": "stdout",
     "output_type": "stream",
     "text": [
      "10 nest pas un nombre premier\n"
     ]
    }
   ],
   "source": [
    "tmp = int(input(\"Saisie un entier nbr positive\"))\n",
    "nbr_prem = 0\n",
    "for i in range (2,tmp):\n",
    "   # print(\"test\")\n",
    "    if tmp % i == 0:\n",
    "        nbr_prem = 1\n",
    "        break\n",
    "\n",
    "if  nbr_prem ==0 :\n",
    "    print(tmp , \"est un nombre premier \")\n",
    "else:\n",
    "        print(tmp , \"nest pas un nombre premier\")\n",
    "    \n",
    "   "
   ]
  },
  {
   "cell_type": "markdown",
   "id": "b730f565",
   "metadata": {},
   "source": [
    "- générer une liste aléatoire de 10 entier, \n",
    "- puis pour chaque élément de cette liste, afficher si ce dernier est premier, sinon l'écrire sous forme d'un produit de deux diviseurs propres\n",
    "- Exemples : \n",
    "    - 20 = 2 * 10\n",
    "    - 63 = 3 * 21"
   ]
  },
  {
   "cell_type": "code",
   "execution_count": 393,
   "id": "df403620",
   "metadata": {},
   "outputs": [
    {
     "name": "stdout",
     "output_type": "stream",
     "text": [
      "L : [21, 30, 42, 82, 66, 67, 67, 31, 95, 39]\n",
      "39 = 3 * 13\n"
     ]
    }
   ],
   "source": [
    "import random\n",
    "L = [ random.randint(1, 100) for _ in range(10) ]\n",
    "print(\"L :\", L)\n",
    "tmp = L[len(L)-1]\n",
    "tmpEstPremier =0\n",
    "#print(tmp)\n",
    "for i in range (2,tmp):\n",
    "    if tmp % i == 0:\n",
    "        tmpEstPremier =1\n",
    "        div1 = i \n",
    "        div2 = tmp // i \n",
    "        break\n",
    "\n",
    "if tmpEstPremier == 0:\n",
    "        print(tmp , \"est un nombre premier\")\n",
    "else:\n",
    "        print(f\"{tmp} = {div1} * {div2}\")\n",
    "        \n",
    "\n"
   ]
  },
  {
   "cell_type": "markdown",
   "id": "873f05ea",
   "metadata": {},
   "source": [
    "##### Optionnel\n",
    "- saisir un entier entre 1 et 500 au clavier, puis écrire sa décomposition en facteurs premiers\n",
    "- Exemple : 100 = (<font>2<sup>2</sup></font>)*(<font>5<sup>2</sup></font>)\n",
    "\n"
   ]
  },
  {
   "cell_type": "code",
   "execution_count": null,
   "id": "7d8110f6",
   "metadata": {},
   "outputs": [],
   "source": []
  },
  {
   "cell_type": "markdown",
   "id": "848aeaea",
   "metadata": {},
   "source": [
    "## Les 3 tris : Insertion, Séléction, Bulle"
   ]
  },
  {
   "cell_type": "markdown",
   "id": "ee4e31f9",
   "metadata": {},
   "source": [
    "<font size=2><b>\n",
    "Ecrire un code qui génère une liste L de 10.000 Entiers Naturels\n",
    "</b></font>"
   ]
  },
  {
   "cell_type": "code",
   "execution_count": 417,
   "id": "c7323cd3",
   "metadata": {},
   "outputs": [],
   "source": [
    "import random\n",
    "L = [ random.randint(1, 10000) for _ in range(10000) ]\n"
   ]
  },
  {
   "cell_type": "markdown",
   "id": "b18b6196",
   "metadata": {},
   "source": [
    "<font size=2>\n",
    "    <ul>\n",
    "        <li> Ecrire un code qui crée L1 une copie de L et la trie par l'algorithme de tri par <b><u>Insertion</u></b>\n",
    "        <li> Afficher les éléments de L1 avec un pas de 200   \n",
    "        <li> calculer le temps d'execution (en ms) et l'afficher  (utiliser time.time())\n",
    "    </ul>\n",
    "</font>"
   ]
  },
  {
   "cell_type": "code",
   "execution_count": 446,
   "id": "a6fe770f",
   "metadata": {},
   "outputs": [
    {
     "name": "stdout",
     "output_type": "stream",
     "text": [
      "7\n",
      "212\n",
      "433\n",
      "631\n",
      "814\n",
      "997\n",
      "1194\n",
      "1400\n",
      "1586\n",
      "1795\n",
      "1994\n",
      "2198\n",
      "2415\n",
      "2642\n",
      "2834\n",
      "3017\n",
      "3204\n",
      "3410\n",
      "3610\n",
      "3816\n",
      "4019\n",
      "4206\n",
      "4416\n",
      "4630\n",
      "4823\n",
      "5030\n",
      "5221\n",
      "5418\n",
      "5630\n",
      "5828\n",
      "6015\n",
      "6218\n",
      "6409\n",
      "6605\n",
      "6809\n",
      "7003\n",
      "7190\n",
      "7404\n",
      "7608\n",
      "7797\n",
      "7992\n",
      "8182\n",
      "8379\n",
      "8576\n",
      "8779\n",
      "8994\n",
      "9198\n",
      "9410\n",
      "9604\n",
      "9813\n",
      "temps d'execution  -> 17453.31358909607 ms\n"
     ]
    }
   ],
   "source": [
    "import time\n",
    "\n",
    "L1 = L[:]\n",
    "start_time = time.time()  \n",
    "for i in range(1, len(L1)):\n",
    "    tmp = L1[i]\n",
    "    j = i - 1\n",
    "    while j >= 0 and tmp < L1[j]:\n",
    "        L1[j + 1] = L1[j]\n",
    "        j -= 1\n",
    "    L1[j + 1] = tmp\n",
    "    \n",
    "end_time = time.time()\n",
    "\n",
    "for i in range(0, len(L1), 200):\n",
    "    print(L1[i])\n",
    "\n",
    "print(f\"temps d'execution  -> {(end_time - start_time) * 1000} ms\")\n",
    "\n"
   ]
  },
  {
   "cell_type": "markdown",
   "id": "d90560c0",
   "metadata": {},
   "source": [
    "<font size=2>\n",
    "    <ul>\n",
    "        <li> Ecrire un code qui crée L2 une copie de L et la trie par l'algorithme de tri par <b><u>Séléction</u></b>\n",
    "        <li> Afficher les éléments de L2 avec un pas de 200   \n",
    "        <li> calculer le temps d'execution (en ms) et l'afficher  (utiliser time.time())\n",
    "    </ul>\n",
    "</font>"
   ]
  },
  {
   "cell_type": "code",
   "execution_count": 442,
   "id": "b11841bc",
   "metadata": {},
   "outputs": [
    {
     "name": "stdout",
     "output_type": "stream",
     "text": [
      "7\n",
      "212\n",
      "433\n",
      "631\n",
      "814\n",
      "997\n",
      "1194\n",
      "1400\n",
      "1586\n",
      "1795\n",
      "1994\n",
      "2198\n",
      "2415\n",
      "2642\n",
      "2834\n",
      "3017\n",
      "3204\n",
      "3410\n",
      "3610\n",
      "3816\n",
      "4019\n",
      "4206\n",
      "4416\n",
      "4630\n",
      "4823\n",
      "5030\n",
      "5221\n",
      "5418\n",
      "5630\n",
      "5828\n",
      "6015\n",
      "6218\n",
      "6409\n",
      "6605\n",
      "6809\n",
      "7003\n",
      "7190\n",
      "7404\n",
      "7608\n",
      "7797\n",
      "7992\n",
      "8182\n",
      "8379\n",
      "8576\n",
      "8779\n",
      "8994\n",
      "9198\n",
      "9410\n",
      "9604\n",
      "9813\n",
      "temps d'execution  -> 14654.023885726929 ms\n"
     ]
    }
   ],
   "source": [
    "import time\n",
    "start_time = time.time()  \n",
    "L2 = L[:]\n",
    "\n",
    "\n",
    "for i in range(len(L2)):\n",
    "    min = i\n",
    "    for j in range(i + 1, len(L2)):\n",
    "        if L2[j] < L2[min]:\n",
    "            min = j\n",
    "    tmp = L2[i]\n",
    "    L2[i] = L2[min]\n",
    "    L2[min] = tmp\n",
    "end_time = time.time() \n",
    "\n",
    "for i in range(0, len(L2), 200):\n",
    "    print(L2[i])\n",
    "\n",
    "print(f\"temps d'execution  -> {(end_time - start_time) * 1000} ms\")"
   ]
  },
  {
   "cell_type": "markdown",
   "id": "350d2e7a",
   "metadata": {},
   "source": [
    "<font size=2>\n",
    "    <ul>\n",
    "        <li> Ecrire un code qui crée L3 une copie de L et la trie par l'algorithme de tri par <b><u>Bulle</u></b>\n",
    "        <li> Afficher les éléments de L3 avec un pas de 200   \n",
    "        <li> calculer le temps d'execution (en ms) et l'afficher  (utiliser time.time())\n",
    "    </ul>\n",
    "</font>"
   ]
  },
  {
   "cell_type": "code",
   "execution_count": 459,
   "id": "501810b9",
   "metadata": {},
   "outputs": [
    {
     "name": "stdout",
     "output_type": "stream",
     "text": [
      "1\n",
      "198\n",
      "401\n",
      "614\n",
      "816\n",
      "1020\n",
      "1216\n",
      "1412\n",
      "1617\n",
      "1781\n",
      "1966\n",
      "2163\n",
      "2378\n",
      "2579\n",
      "2760\n",
      "2947\n",
      "3159\n",
      "3360\n",
      "3559\n",
      "3750\n",
      "3937\n",
      "4135\n",
      "4363\n",
      "4574\n",
      "4774\n",
      "4966\n",
      "5169\n",
      "5380\n",
      "5570\n",
      "5782\n",
      "5987\n",
      "6182\n",
      "6402\n",
      "6601\n",
      "6790\n",
      "6981\n",
      "7179\n",
      "7365\n",
      "7591\n",
      "7792\n",
      "7984\n",
      "8179\n",
      "8370\n",
      "8573\n",
      "8781\n",
      "8978\n",
      "9176\n",
      "9392\n",
      "9608\n",
      "9795\n",
      "temps d'execution  -> 17453.31358909607 ms\n"
     ]
    }
   ],
   "source": [
    "import random\n",
    "import time\n",
    "\n",
    "L3 = L[:]\n",
    "start = time.time()  \n",
    "\n",
    "for i in range(len(L3)):\n",
    "    changement = False\n",
    "    for j in range(0, len(L3) - i - 1): \n",
    "        if L3[j] > L3[j + 1]:  \n",
    "            tmp = L3[j]\n",
    "            L3[j] = L3[j + 1]\n",
    "            L3[j + 1] = tmp\n",
    "            changement = True \n",
    "    if not changement:  \n",
    "        break\n",
    "\n",
    "end = time.time()  \n",
    "for i in range(0, len(L3), 200):\n",
    "    print(L3[i])\n",
    "\n",
    "print(f\"temps d'execution  -> {(end_time - start_time) * 1000} ms\")\n"
   ]
  },
  {
   "cell_type": "markdown",
   "id": "0f941ab2",
   "metadata": {},
   "source": [
    "## Chiffrement de César\n",
    "- César cryptait ses messages pour communiquer avec son armée\n",
    "- Chiffrement de César décalage des lettres\n",
    "- Pour crypter un message, A devient D B devient E C devient F\n",
    "    - A → D, \n",
    "    - B → E, \n",
    "    - C → F, \n",
    "    - ....\n",
    "    - W → Z, \n",
    "    - X → A, \n",
    "    - Y → B, \n",
    "    - Z → C\n",
    "\n"
   ]
  },
  {
   "cell_type": "markdown",
   "id": "372287d9",
   "metadata": {},
   "source": [
    "__Indications__:\n",
    "- Dans cet exercice on travaille qu'avec l'alphabet MAJUSCULE\n",
    "- pour récupérer le code ascii d'un caractère de l'alphabet utiliser la fonctionnalité ord() \n"
   ]
  },
  {
   "cell_type": "code",
   "execution_count": 1,
   "id": "ff25b9b0",
   "metadata": {},
   "outputs": [
    {
     "name": "stdout",
     "output_type": "stream",
     "text": [
      "Le code ASCII de A est : 65\n"
     ]
    }
   ],
   "source": [
    "# exemple\n",
    "car = 'A'\n",
    "x = ord(car)\n",
    "print(\"Le code ASCII de\",car, \"est :\",x)"
   ]
  },
  {
   "cell_type": "markdown",
   "id": "16410bae",
   "metadata": {},
   "source": [
    "- pour récupérer le caractère de l'alphabet associé au code ascii x, utiliser la fonctionnalité chr() \n"
   ]
  },
  {
   "cell_type": "code",
   "execution_count": 3,
   "id": "3c75d998",
   "metadata": {},
   "outputs": [
    {
     "name": "stdout",
     "output_type": "stream",
     "text": [
      "Le caractère associé au code ASCII 66 est : B\n"
     ]
    }
   ],
   "source": [
    "# exemple\n",
    "x = 66\n",
    "print(\"Le caractère associé au code ASCII\",x, \"est :\",chr(x))"
   ]
  },
  {
   "cell_type": "markdown",
   "id": "a034c1be",
   "metadata": {},
   "source": [
    "##### écrire un code qui chiffre une chaine de caractère ch par un chiffre de César  et affiche le résultat"
   ]
  },
  {
   "cell_type": "code",
   "execution_count": 17,
   "id": "46f55b1e",
   "metadata": {},
   "outputs": [
    {
     "name": "stdout",
     "output_type": "stream",
     "text": [
      "Saisie votre chaibe de caractere BOUNJOUR\n"
     ]
    },
    {
     "name": "stdout",
     "output_type": "stream",
     "text": [
      "message chiffre : ERXQMRXU\n"
     ]
    }
   ],
   "source": [
    "ch = str(input(\"Saisie votre chaibe de caractere\"))\n",
    "res =''\n",
    "for caractere in ch:\n",
    "    if 'A' <= caractere <= 'Z':\n",
    "        x=ord(caractere)\n",
    "        newX = (x - ord('A') + 3) % 26 + ord('A')\n",
    "        #### this  modulo 26 to loop around the  alphabet \n",
    "        res += chr(newX)\n",
    "    else:\n",
    "        print(\"veiller saisie des caractere en MAJ!\")\n",
    "\n",
    "\n",
    "print(\"message chiffre :\", res)\n",
    "\n"
   ]
  },
  {
   "cell_type": "markdown",
   "id": "0f2e3c97",
   "metadata": {},
   "source": [
    "##### écrire un code qui déchiffre une chaine de caractère chiffrée par le chiffre de César et affiche le résultat"
   ]
  },
  {
   "cell_type": "code",
   "execution_count": 23,
   "id": "bfc0d68a",
   "metadata": {},
   "outputs": [
    {
     "name": "stdout",
     "output_type": "stream",
     "text": [
      "Saisie votre chaibe de caractere KHOOR\n"
     ]
    },
    {
     "name": "stdout",
     "output_type": "stream",
     "text": [
      "message déchiffrest : HELLO\n"
     ]
    }
   ],
   "source": [
    "ch = str(input(\"Saisie votre chaibe de caractere\"))\n",
    "res =''\n",
    "for caractere in ch:\n",
    "        x = ord(caractere)\n",
    "        newX = (x - ord('A') - 3) % 26 + ord('A')\n",
    "        res += chr(newX)\n",
    "\n",
    " \n",
    "print(\"message déchiffrest :\", res)\n"
   ]
  },
  {
   "cell_type": "markdown",
   "id": "d73d5bfc",
   "metadata": {},
   "source": [
    "## Chaine Palindrome"
   ]
  },
  {
   "cell_type": "markdown",
   "id": "c7f6fc37",
   "metadata": {},
   "source": [
    "<font size=2><b>\n",
    "Ecrire un code qui vérifie si une chaine de caractère ch est Palindrome ou pas\n",
    "<br>\n",
    "- <b><u>Rappel</u></b> : Une chaine Palindrome s'écrit de la même façon de Droite à gauche et de Gauche à droite\n",
    "<br>\n",
    "- Exemples : ROTOR , RADAR, ...\n",
    "</b></font>"
   ]
  },
  {
   "cell_type": "code",
   "execution_count": 27,
   "id": "5095e947",
   "metadata": {},
   "outputs": [
    {
     "name": "stdout",
     "output_type": "stream",
     "text": [
      "Saisie votre chaine de caractére :  radar\n"
     ]
    },
    {
     "name": "stdout",
     "output_type": "stream",
     "text": [
      "radar est un palindrome\n"
     ]
    }
   ],
   "source": [
    "ch = input(\"Saisie votre chaine de caractére : \")\n",
    "if ch == ch[::-1]:  \n",
    "    print(f\"{ch} est un palindrome\")\n",
    "else:\n",
    "    print(f\"{ch} nest pas un palindrome\")"
   ]
  }
 ],
 "metadata": {
  "kernelspec": {
   "display_name": "Python 3 (ipykernel)",
   "language": "python",
   "name": "python3"
  },
  "language_info": {
   "codemirror_mode": {
    "name": "ipython",
    "version": 3
   },
   "file_extension": ".py",
   "mimetype": "text/x-python",
   "name": "python",
   "nbconvert_exporter": "python",
   "pygments_lexer": "ipython3",
   "version": "3.12.4"
  }
 },
 "nbformat": 4,
 "nbformat_minor": 5
}
